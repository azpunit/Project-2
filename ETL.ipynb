{
 "cells": [
  {
   "cell_type": "code",
   "execution_count": 130,
   "metadata": {},
   "outputs": [],
   "source": [
    "import pandas as pd \n",
    "from sqlalchemy import create_engine\n",
    "import os"
   ]
  },
  {
   "cell_type": "code",
   "execution_count": 131,
   "metadata": {},
   "outputs": [],
   "source": [
    "csv_file_1 = os.path.join(\"..\", \"Weather Project\", \"Resources\", \"beach-lab-data.csv\")\n",
    "csv_file_2 = os.path.join(\"..\", \"Weather Project\", \"Resources\",\"beach-water-quality-automated-sensors.csv\")\n",
    "csv_json = os.path.join(\"..\", \"Weather Project\", \"Resources\", \"beach-swim-advisories.json\")\n",
    "\n",
    "chicago_beach_dna_and_culture_tests_df = pd.read_csv(csv_file_1)\n",
    "chicago_beach_parameters_df = pd.read_csv(csv_file_2)\n",
    "swim_advisory_df = pd.read_json(csv_json)"
   ]
  },
  {
   "cell_type": "code",
   "execution_count": 132,
   "metadata": {},
   "outputs": [],
   "source": [
    "raw_clean_chicago_beach_dna_and_culture_tests_df = chicago_beach_dna_and_culture_tests_df[[\"DNA Sample Timestamp\", \"Beach\",\t\"DNA Sample 1 Reading\",\t\n",
    "                                                                                           \"DNA Sample 2 Reading\", \"DNA Reading Mean\", \"Culture Sample 1 Timestamp\",\t                                                                                       \"Culture Sample 1 Reading\", \"Culture Sample 2 Reading\", \n",
    "                                                                                           \"Culture Reading Mean\", \"Latitude\", \"Longitude\", \"Location\"]]\n",
    "raw_clean_swim_advisory_df = swim_advisory_df[[\"Beach Name\", \"Date\", \"Predicted Level\", \"Probability\", \"Swim Advisory\"]]\n",
    "raw_chicago_beach_parameters_df = chicago_beach_parameters_df[[\"Beach Name\", \"Measurement Timestamp\", \"Water Temperature\", \"Turbidity\", \"Transducer Depth\", \n",
    "                                                               \"Wave Height\", \"Wave Period\", \"Battery Life\"]]"
   ]
  },
  {
   "cell_type": "code",
   "execution_count": 133,
   "metadata": {},
   "outputs": [],
   "source": [
    "clean_chicago_beach_dna_and_culture_tests_df = raw_clean_chicago_beach_dna_and_culture_tests_df.rename(columns={\"DNA Sample Timestamp\":                                                                                                                                      \"DNA_Sample_Timestamp\",                      \n",
    "                                                                                                                \"DNA Sample 1 Reading\":                 \n",
    "                                                                                                                \"DNA_Sample_1_Reading\",\n",
    "                                                                                                                \"DNA Sample 2 Reading\":                                                                                                                                      \"DNA_Sample_2_Reading\",\n",
    "                                                                                                                \"DNA Reading Mean\": \n",
    "                                                                                                                \"DNA_Reading_Mean\",\n",
    "                                                                                                                \"Culture Sample 1 Timestamp\": \n",
    "                                                                                                                \"Culture_Sample_1_Timestamp\",     \n",
    "                                                                                                                \"Culture Sample 1 Reading\":                                                                                                                                  \"Culture_Sample_1_Reading\",\n",
    "                                                                                                                \"Culture Sample 2 Reading\":             \n",
    "                                                                                                                \"Culture_Sample_2_Reading\",\n",
    "                                                                                                                \"Culture Reading Mean\":                 \n",
    "                                                                                                                \"Culture_Reading_Mean\"})\n",
    "\n",
    "clean_swim_advisory_df = raw_clean_swim_advisory_df.rename(columns={\"Beach Name\": \"Beach\", \"Predicted Level\": \"Predicted_Level\",                                                                                                 \"Swim Advisory\": \"Swim_Advisory\"})\n",
    "\n",
    "clean_chicago_beach_parameters_df = raw_chicago_beach_parameters_df.rename(columns={\"Beach Name\": \"Beach_Name\", \"Measurement Timestamp\":                                                                                                         \"Measurement_Timestamp\",                                                                                                                                     \"Water Temperature\": \"Water_Temperature\", \n",
    "                                                                                    \"Transducer Depth\": \"Transducer_Depth\",                                                                                                                      \"Wave Height\": \"Wave_Height\", \n",
    "                                                                                    \"Wave Period\": \"Wave_Period\", \n",
    "                                                                                    \"Battery Life\": \"Battery_Life\"})"
   ]
  },
  {
   "cell_type": "code",
   "execution_count": 134,
   "metadata": {},
   "outputs": [],
   "source": [
    "sql_lite = \"sqlite:///my_sqlite.db\"\n",
    "engine = create_engine(sql_lite)"
   ]
  },
  {
   "cell_type": "code",
   "execution_count": 135,
   "metadata": {},
   "outputs": [],
   "source": [
    "clean_chicago_beach_dna_and_culture_tests_df.to_sql(name=\"clean_chicago_beach_dna_and_culture_tests_df\", con=engine, if_exists=\"replace\", index=False)\n",
    "clean_swim_advisory_df.to_sql(name=\"clean_swim_advisory_df\", con=engine, if_exists=\"replace\", index=False)\n",
    "clean_chicago_beach_parameters_df.to_sql(name=\"clean_chicago_beach_parameters_df\", con=engine, if_exists=\"replace\", index=False)"
   ]
  },
  {
   "cell_type": "code",
   "execution_count": 136,
   "metadata": {},
   "outputs": [],
   "source": [
    "total_beaches_df = pd.read_sql_query(\"\"\"SELECT Beach,\n",
    "                                        avg(DNA_Sample_1_Reading) AS DNA_Sample_1_Reading_Mean,                             \n",
    "                                        avg(DNA_Sample_2_Reading) AS DNA_Sample_2_Reading_Mean, \n",
    "                                        avg(DNA_Reading_Mean) AS DNA_Overall_Reading_Mean,  \n",
    "                                        avg(Culture_Sample_1_Reading) AS Culture_Sample_1_Reading_Mean,                \n",
    "                                        avg(Culture_Sample_2_Reading) AS Culture_Sample_2_Reading_Mean, \n",
    "                                        avg(Culture_Reading_Mean) AS Culture_Overall_Reading_Mean\n",
    "                                        FROM clean_chicago_beach_dna_and_culture_tests_df  \n",
    "                                        WHERE Beach <> 'None'\n",
    "                                        GROUP BY Beach\n",
    "                                     \"\"\", con=engine)\n",
    "\n",
    "total_beaches_df.to_sql(name=\"total_beaches_df\", con=engine, if_exists=\"replace\", index=False) "
   ]
  },
  {
   "cell_type": "code",
   "execution_count": 137,
   "metadata": {},
   "outputs": [
    {
     "output_type": "execute_result",
     "data": {
      "text/plain": "                             Beach  DNA_Sample_1_Reading_Mean  \\\n0                      12th Street                 477.594118   \n1                      57th Street                 407.446602   \n2                         Columbia                        NaN   \n3                            Fargo                        NaN   \n4                           Foster                 256.786408   \n5                         Hartigan                  33.000000   \n6                Hartigan (Albion)                 461.184466   \n7                           Howard                 298.105769   \n8                          Juneway                        NaN   \n9                             Lane                        NaN   \n10                           Leone                 561.500000   \n11                          Loyola                        NaN   \n12     Margaret T Burroughs (31st)                 556.372549   \n13           Marion Mahony Griffin                  59.000000   \n14  Marion Mahony Griffin (Jarvis)                 294.431373   \n15                    North Avenue                 228.040462   \n16                     North Shore                        NaN   \n17                      Oak Street                 186.495050   \n18                         Oakwood                 279.119565   \n19                     Ohio Street                 493.011561   \n20                        Osterman                 210.078431   \n21                          Rogers                 581.534653   \n\n    DNA_Sample_2_Reading_Mean  DNA_Overall_Reading_Mean  \\\n0                  277.323529                305.977647   \n1                  345.194175                325.009709   \n2                         NaN                       NaN   \n3                         NaN                       NaN   \n4                  336.077670                204.372816   \n5                   20.000000                 25.700000   \n6                  345.088235                352.887379   \n7                  561.764706                327.623077   \n8                         NaN                       NaN   \n9                         NaN                       NaN   \n10                 297.630000                336.199020   \n11                        NaN                       NaN   \n12                 479.725490                437.465686   \n13                  32.000000                 43.500000   \n14                 519.171717                344.590196   \n15                 212.223529                187.334104   \n16                        NaN                       NaN   \n17                 428.465347                220.351485   \n18                 952.674157                287.130435   \n19                 352.116279                281.309827   \n20                 229.712871                196.934314   \n21                 537.612245                487.399010   \n\n    Culture_Sample_1_Reading_Mean  Culture_Sample_2_Reading_Mean  \\\n0                      164.822777                     160.685488   \n1                      163.935810                     169.782805   \n2                      105.620775                     132.175540   \n3                       55.888776                      42.948958   \n4                      144.617466                     139.474539   \n5                       86.960430                      83.922535   \n6                             NaN                            NaN   \n7                       65.057687                      68.979438   \n8                       68.680127                      71.963299   \n9                      146.537809                     151.169751   \n10                      84.664237                      82.480306   \n11                     108.060400                      95.830800   \n12                            NaN                            NaN   \n13                      83.705809                      76.084765   \n14                            NaN                            NaN   \n15                      98.114357                      90.029875   \n16                     106.178521                      89.484116   \n17                      72.613151                      75.826741   \n18                     104.128120                     113.309667   \n19                     118.622854                     129.395163   \n20                     137.088821                     128.780049   \n21                      68.310801                      68.896159   \n\n    Culture_Overall_Reading_Mean  \n0                     150.768044  \n1                     153.530182  \n2                      98.190493  \n3                      44.014286  \n4                     135.405767  \n5                      79.236237  \n6                            NaN  \n7                      63.231566  \n8                      63.567893  \n9                     138.361888  \n10                     79.390051  \n11                     96.095600  \n12                           NaN  \n13                     72.119697  \n14                           NaN  \n15                     87.844209  \n16                     90.419298  \n17                     70.085272  \n18                     98.048093  \n19                    110.422623  \n20                    125.192308  \n21                     62.440329  ",
      "text/html": "<div>\n<style scoped>\n    .dataframe tbody tr th:only-of-type {\n        vertical-align: middle;\n    }\n\n    .dataframe tbody tr th {\n        vertical-align: top;\n    }\n\n    .dataframe thead th {\n        text-align: right;\n    }\n</style>\n<table border=\"1\" class=\"dataframe\">\n  <thead>\n    <tr style=\"text-align: right;\">\n      <th></th>\n      <th>Beach</th>\n      <th>DNA_Sample_1_Reading_Mean</th>\n      <th>DNA_Sample_2_Reading_Mean</th>\n      <th>DNA_Overall_Reading_Mean</th>\n      <th>Culture_Sample_1_Reading_Mean</th>\n      <th>Culture_Sample_2_Reading_Mean</th>\n      <th>Culture_Overall_Reading_Mean</th>\n    </tr>\n  </thead>\n  <tbody>\n    <tr>\n      <th>0</th>\n      <td>12th Street</td>\n      <td>477.594118</td>\n      <td>277.323529</td>\n      <td>305.977647</td>\n      <td>164.822777</td>\n      <td>160.685488</td>\n      <td>150.768044</td>\n    </tr>\n    <tr>\n      <th>1</th>\n      <td>57th Street</td>\n      <td>407.446602</td>\n      <td>345.194175</td>\n      <td>325.009709</td>\n      <td>163.935810</td>\n      <td>169.782805</td>\n      <td>153.530182</td>\n    </tr>\n    <tr>\n      <th>2</th>\n      <td>Columbia</td>\n      <td>NaN</td>\n      <td>NaN</td>\n      <td>NaN</td>\n      <td>105.620775</td>\n      <td>132.175540</td>\n      <td>98.190493</td>\n    </tr>\n    <tr>\n      <th>3</th>\n      <td>Fargo</td>\n      <td>NaN</td>\n      <td>NaN</td>\n      <td>NaN</td>\n      <td>55.888776</td>\n      <td>42.948958</td>\n      <td>44.014286</td>\n    </tr>\n    <tr>\n      <th>4</th>\n      <td>Foster</td>\n      <td>256.786408</td>\n      <td>336.077670</td>\n      <td>204.372816</td>\n      <td>144.617466</td>\n      <td>139.474539</td>\n      <td>135.405767</td>\n    </tr>\n    <tr>\n      <th>5</th>\n      <td>Hartigan</td>\n      <td>33.000000</td>\n      <td>20.000000</td>\n      <td>25.700000</td>\n      <td>86.960430</td>\n      <td>83.922535</td>\n      <td>79.236237</td>\n    </tr>\n    <tr>\n      <th>6</th>\n      <td>Hartigan (Albion)</td>\n      <td>461.184466</td>\n      <td>345.088235</td>\n      <td>352.887379</td>\n      <td>NaN</td>\n      <td>NaN</td>\n      <td>NaN</td>\n    </tr>\n    <tr>\n      <th>7</th>\n      <td>Howard</td>\n      <td>298.105769</td>\n      <td>561.764706</td>\n      <td>327.623077</td>\n      <td>65.057687</td>\n      <td>68.979438</td>\n      <td>63.231566</td>\n    </tr>\n    <tr>\n      <th>8</th>\n      <td>Juneway</td>\n      <td>NaN</td>\n      <td>NaN</td>\n      <td>NaN</td>\n      <td>68.680127</td>\n      <td>71.963299</td>\n      <td>63.567893</td>\n    </tr>\n    <tr>\n      <th>9</th>\n      <td>Lane</td>\n      <td>NaN</td>\n      <td>NaN</td>\n      <td>NaN</td>\n      <td>146.537809</td>\n      <td>151.169751</td>\n      <td>138.361888</td>\n    </tr>\n    <tr>\n      <th>10</th>\n      <td>Leone</td>\n      <td>561.500000</td>\n      <td>297.630000</td>\n      <td>336.199020</td>\n      <td>84.664237</td>\n      <td>82.480306</td>\n      <td>79.390051</td>\n    </tr>\n    <tr>\n      <th>11</th>\n      <td>Loyola</td>\n      <td>NaN</td>\n      <td>NaN</td>\n      <td>NaN</td>\n      <td>108.060400</td>\n      <td>95.830800</td>\n      <td>96.095600</td>\n    </tr>\n    <tr>\n      <th>12</th>\n      <td>Margaret T Burroughs (31st)</td>\n      <td>556.372549</td>\n      <td>479.725490</td>\n      <td>437.465686</td>\n      <td>NaN</td>\n      <td>NaN</td>\n      <td>NaN</td>\n    </tr>\n    <tr>\n      <th>13</th>\n      <td>Marion Mahony Griffin</td>\n      <td>59.000000</td>\n      <td>32.000000</td>\n      <td>43.500000</td>\n      <td>83.705809</td>\n      <td>76.084765</td>\n      <td>72.119697</td>\n    </tr>\n    <tr>\n      <th>14</th>\n      <td>Marion Mahony Griffin (Jarvis)</td>\n      <td>294.431373</td>\n      <td>519.171717</td>\n      <td>344.590196</td>\n      <td>NaN</td>\n      <td>NaN</td>\n      <td>NaN</td>\n    </tr>\n    <tr>\n      <th>15</th>\n      <td>North Avenue</td>\n      <td>228.040462</td>\n      <td>212.223529</td>\n      <td>187.334104</td>\n      <td>98.114357</td>\n      <td>90.029875</td>\n      <td>87.844209</td>\n    </tr>\n    <tr>\n      <th>16</th>\n      <td>North Shore</td>\n      <td>NaN</td>\n      <td>NaN</td>\n      <td>NaN</td>\n      <td>106.178521</td>\n      <td>89.484116</td>\n      <td>90.419298</td>\n    </tr>\n    <tr>\n      <th>17</th>\n      <td>Oak Street</td>\n      <td>186.495050</td>\n      <td>428.465347</td>\n      <td>220.351485</td>\n      <td>72.613151</td>\n      <td>75.826741</td>\n      <td>70.085272</td>\n    </tr>\n    <tr>\n      <th>18</th>\n      <td>Oakwood</td>\n      <td>279.119565</td>\n      <td>952.674157</td>\n      <td>287.130435</td>\n      <td>104.128120</td>\n      <td>113.309667</td>\n      <td>98.048093</td>\n    </tr>\n    <tr>\n      <th>19</th>\n      <td>Ohio Street</td>\n      <td>493.011561</td>\n      <td>352.116279</td>\n      <td>281.309827</td>\n      <td>118.622854</td>\n      <td>129.395163</td>\n      <td>110.422623</td>\n    </tr>\n    <tr>\n      <th>20</th>\n      <td>Osterman</td>\n      <td>210.078431</td>\n      <td>229.712871</td>\n      <td>196.934314</td>\n      <td>137.088821</td>\n      <td>128.780049</td>\n      <td>125.192308</td>\n    </tr>\n    <tr>\n      <th>21</th>\n      <td>Rogers</td>\n      <td>581.534653</td>\n      <td>537.612245</td>\n      <td>487.399010</td>\n      <td>68.310801</td>\n      <td>68.896159</td>\n      <td>62.440329</td>\n    </tr>\n  </tbody>\n</table>\n</div>"
     },
     "metadata": {},
     "execution_count": 137
    }
   ],
   "source": [
    "DNA_safe_beaches_df = pd.read_sql_query(\"\"\"SELECT * FROM total_beaches_df\n",
    "                                           WHERE (DNA_Sample_1_Reading_Mean < 1000 \n",
    "                                           AND DNA_Sample_2_Reading_Mean < 1000\n",
    "                                           AND DNA_Overall_Reading_Mean < 1000) \n",
    "                                           OR (DNA_Sample_1_Reading_Mean IS NULL \n",
    "                                           OR DNA_Sample_2_Reading_Mean IS NULL                    \n",
    "                                           OR DNA_Overall_Reading_Mean IS NULL)            \n",
    "                                        \"\"\", con=engine)\n",
    "\n",
    "DNA_safe_beaches_df.to_sql(name=\"DNA_safe_beaches_df\", con=engine, if_exists=\"replace\", index=False)                                        \n",
    "\n",
    "DNA_and_culture_safe_beaches_df = pd.read_sql_query(\"\"\"SELECT * FROM DNA_safe_beaches_df\n",
    "                                                       WHERE (Culture_Sample_1_Reading_Mean < 235 \n",
    "                                                       AND Culture_Sample_2_Reading_Mean < 235\n",
    "                                                       AND Culture_Overall_Reading_Mean < 235) \n",
    "                                                       OR (Culture_Sample_1_Reading_Mean IS NULL \n",
    "                                                       OR Culture_Sample_2_Reading_Mean IS NULL                    \n",
    "                                                       OR Culture_Overall_Reading_Mean IS NULL);\n",
    "                                                    \"\"\", con=engine)                                       \n",
    " \n",
    "DNA_and_culture_safe_beaches_df.to_sql(name=\"DNA_and_culture_safe_beaches_df\", con=engine, if_exists=\"replace\", index=False) \n",
    "\n",
    "DNA_and_culture_safe_beaches_df"
   ]
  },
  {
   "cell_type": "code",
   "execution_count": 138,
   "metadata": {},
   "outputs": [
    {
     "output_type": "execute_result",
     "data": {
      "text/plain": "                  Beach  DNA_Sample_1_Reading_Mean  DNA_Sample_2_Reading_Mean  \\\n0           63rd Street                 863.750893                 673.273303   \n1               Calumet                 419.256388                 426.590308   \n2              Humboldt                3576.528846                3998.471154   \n3  Margaret T Burroughs                 372.342857                 395.257143   \n4              Montrose                 908.200881                 908.769912   \n5          Montrose Dog                        NaN                        NaN   \n6               Rainbow                 488.526872                 724.042478   \n7           South Shore                 434.175893                 359.740625   \n\n   DNA_Overall_Reading_Mean  Culture_Sample_1_Reading_Mean  \\\n0                693.698661                     327.079103   \n1                371.786784                     253.946719   \n2               3581.267308                      35.270000   \n3                338.567143                     226.162967   \n4                702.403084                     305.017572   \n5                       NaN                     328.082460   \n6                477.889868                     273.560166   \n7                356.683482                     243.380414   \n\n   Culture_Sample_2_Reading_Mean  Culture_Overall_Reading_Mean  \n0                     319.662722                    304.352000  \n1                     241.966629                    225.068243  \n2                      22.872500                     26.770000  \n3                     245.076988                    219.259064  \n4                     317.136647                    294.973933  \n5                     336.712073                    306.591364  \n6                     270.017836                    252.946327  \n7                     210.870195                    203.557767  ",
      "text/html": "<div>\n<style scoped>\n    .dataframe tbody tr th:only-of-type {\n        vertical-align: middle;\n    }\n\n    .dataframe tbody tr th {\n        vertical-align: top;\n    }\n\n    .dataframe thead th {\n        text-align: right;\n    }\n</style>\n<table border=\"1\" class=\"dataframe\">\n  <thead>\n    <tr style=\"text-align: right;\">\n      <th></th>\n      <th>Beach</th>\n      <th>DNA_Sample_1_Reading_Mean</th>\n      <th>DNA_Sample_2_Reading_Mean</th>\n      <th>DNA_Overall_Reading_Mean</th>\n      <th>Culture_Sample_1_Reading_Mean</th>\n      <th>Culture_Sample_2_Reading_Mean</th>\n      <th>Culture_Overall_Reading_Mean</th>\n    </tr>\n  </thead>\n  <tbody>\n    <tr>\n      <th>0</th>\n      <td>63rd Street</td>\n      <td>863.750893</td>\n      <td>673.273303</td>\n      <td>693.698661</td>\n      <td>327.079103</td>\n      <td>319.662722</td>\n      <td>304.352000</td>\n    </tr>\n    <tr>\n      <th>1</th>\n      <td>Calumet</td>\n      <td>419.256388</td>\n      <td>426.590308</td>\n      <td>371.786784</td>\n      <td>253.946719</td>\n      <td>241.966629</td>\n      <td>225.068243</td>\n    </tr>\n    <tr>\n      <th>2</th>\n      <td>Humboldt</td>\n      <td>3576.528846</td>\n      <td>3998.471154</td>\n      <td>3581.267308</td>\n      <td>35.270000</td>\n      <td>22.872500</td>\n      <td>26.770000</td>\n    </tr>\n    <tr>\n      <th>3</th>\n      <td>Margaret T Burroughs</td>\n      <td>372.342857</td>\n      <td>395.257143</td>\n      <td>338.567143</td>\n      <td>226.162967</td>\n      <td>245.076988</td>\n      <td>219.259064</td>\n    </tr>\n    <tr>\n      <th>4</th>\n      <td>Montrose</td>\n      <td>908.200881</td>\n      <td>908.769912</td>\n      <td>702.403084</td>\n      <td>305.017572</td>\n      <td>317.136647</td>\n      <td>294.973933</td>\n    </tr>\n    <tr>\n      <th>5</th>\n      <td>Montrose Dog</td>\n      <td>NaN</td>\n      <td>NaN</td>\n      <td>NaN</td>\n      <td>328.082460</td>\n      <td>336.712073</td>\n      <td>306.591364</td>\n    </tr>\n    <tr>\n      <th>6</th>\n      <td>Rainbow</td>\n      <td>488.526872</td>\n      <td>724.042478</td>\n      <td>477.889868</td>\n      <td>273.560166</td>\n      <td>270.017836</td>\n      <td>252.946327</td>\n    </tr>\n    <tr>\n      <th>7</th>\n      <td>South Shore</td>\n      <td>434.175893</td>\n      <td>359.740625</td>\n      <td>356.683482</td>\n      <td>243.380414</td>\n      <td>210.870195</td>\n      <td>203.557767</td>\n    </tr>\n  </tbody>\n</table>\n</div>"
     },
     "metadata": {},
     "execution_count": 138
    }
   ],
   "source": [
    "unsafe_beaches_df = pd.read_sql_query(\"\"\"SELECT * FROM total_beaches_df\n",
    "                                         WHERE DNA_Sample_1_Reading_Mean >= 1000\n",
    "                                         OR DNA_Sample_2_Reading_Mean >= 1000\n",
    "                                         OR DNA_Overall_Reading_Mean >= 1000 \n",
    "                                         OR Culture_Sample_1_Reading_Mean >= 235 \n",
    "                                         OR Culture_Sample_2_Reading_Mean >= 235\n",
    "                                         OR Culture_Overall_Reading_Mean >= 235 \n",
    "                                      \"\"\", con=engine)                                       \n",
    " \n",
    "unsafe_beaches_df.to_sql(name=\"unsafe_beaches_df\", con=engine, if_exists=\"replace\", index=False) \n",
    "\n",
    "unsafe_beaches_df"
   ]
  },
  {
   "cell_type": "code",
   "execution_count": 139,
   "metadata": {
    "tags": []
   },
   "outputs": [
    {
     "output_type": "stream",
     "name": "stdout",
     "text": "From the two tables that we previously drew, we can consider that around 73.33% of the beaches of the city of Chicago are safe.\nOn the other hand, from the two tables that we previously drew, we can consider that around 26.67% of the beaches of the city of Chicago are unsafe.\n"
    }
   ],
   "source": [
    "safe_beaches_count = len(DNA_and_culture_safe_beaches_df[\"Beach\"])\n",
    "unsafe_beaches_count = len(unsafe_beaches_df[\"Beach\"])\n",
    "total_beaches_count = len(total_beaches_df[\"Beach\"])\n",
    "safe_beaches_percentage = ('{:.2f}%').format((safe_beaches_count/total_beaches_count)*100)\n",
    "unsafe_beaches_percentage = ('{:.2f}%').format((unsafe_beaches_count/total_beaches_count)*100)\n",
    "print(f\"From the two tables that we previously drew, we can consider that around {safe_beaches_percentage} of the beaches of the city of Chicago are safe.\")\n",
    "print(f\"On the other hand, from the two tables that we previously drew, we can consider that around {unsafe_beaches_percentage} of the beaches of the city of Chicago are unsafe.\")"
   ]
  },
  {
   "cell_type": "code",
   "execution_count": 140,
   "metadata": {
    "tags": []
   },
   "outputs": [
    {
     "output_type": "execute_result",
     "data": {
      "text/plain": "        Beach  Probability  Average_Predicted_Level Swim_Advisory\n0   OakStreet        0.018                24.699020             N\n1        Ohio        0.082                27.430392             N\n2       Leone        0.006                47.957843             N\n3      Foster        0.021                67.088235             N\n4     Calumet        0.107                85.576471             N\n5    Osterman        0.004                87.411765             N\n6  63rdStreet        0.106                98.012745             N\n7     Rainbow        0.078               100.073529             N\n8    Montrose        0.277               213.367647             N",
      "text/html": "<div>\n<style scoped>\n    .dataframe tbody tr th:only-of-type {\n        vertical-align: middle;\n    }\n\n    .dataframe tbody tr th {\n        vertical-align: top;\n    }\n\n    .dataframe thead th {\n        text-align: right;\n    }\n</style>\n<table border=\"1\" class=\"dataframe\">\n  <thead>\n    <tr style=\"text-align: right;\">\n      <th></th>\n      <th>Beach</th>\n      <th>Probability</th>\n      <th>Average_Predicted_Level</th>\n      <th>Swim_Advisory</th>\n    </tr>\n  </thead>\n  <tbody>\n    <tr>\n      <th>0</th>\n      <td>OakStreet</td>\n      <td>0.018</td>\n      <td>24.699020</td>\n      <td>N</td>\n    </tr>\n    <tr>\n      <th>1</th>\n      <td>Ohio</td>\n      <td>0.082</td>\n      <td>27.430392</td>\n      <td>N</td>\n    </tr>\n    <tr>\n      <th>2</th>\n      <td>Leone</td>\n      <td>0.006</td>\n      <td>47.957843</td>\n      <td>N</td>\n    </tr>\n    <tr>\n      <th>3</th>\n      <td>Foster</td>\n      <td>0.021</td>\n      <td>67.088235</td>\n      <td>N</td>\n    </tr>\n    <tr>\n      <th>4</th>\n      <td>Calumet</td>\n      <td>0.107</td>\n      <td>85.576471</td>\n      <td>N</td>\n    </tr>\n    <tr>\n      <th>5</th>\n      <td>Osterman</td>\n      <td>0.004</td>\n      <td>87.411765</td>\n      <td>N</td>\n    </tr>\n    <tr>\n      <th>6</th>\n      <td>63rdStreet</td>\n      <td>0.106</td>\n      <td>98.012745</td>\n      <td>N</td>\n    </tr>\n    <tr>\n      <th>7</th>\n      <td>Rainbow</td>\n      <td>0.078</td>\n      <td>100.073529</td>\n      <td>N</td>\n    </tr>\n    <tr>\n      <th>8</th>\n      <td>Montrose</td>\n      <td>0.277</td>\n      <td>213.367647</td>\n      <td>N</td>\n    </tr>\n  </tbody>\n</table>\n</div>"
     },
     "metadata": {},
     "execution_count": 140
    }
   ],
   "source": [
    "swim_advisory_beaches_df = pd.read_sql_query(\"\"\"SELECT Beach, Probability, \n",
    "                                                avg(Predicted_Level) AS Average_Predicted_Level,\n",
    "                                                Swim_Advisory\n",
    "                                                FROM clean_swim_advisory_df\n",
    "                                                WHERE Probability >= 0\n",
    "                                                GROUP BY Beach\n",
    "                                                ORDER BY Average_Predicted_Level\n",
    "                                             \"\"\", con=engine) \n",
    "\n",
    "swim_advisory_beaches_df.to_sql(name=\"swim_advisory_beaches_df\", con=engine, if_exists=\"replace\", index=False)                                             \n",
    "\n",
    "swim_advisory_beaches_df"
   ]
  },
  {
   "cell_type": "code",
   "execution_count": 141,
   "metadata": {},
   "outputs": [
    {
     "output_type": "execute_result",
     "data": {
      "text/plain": "        Beach  Probability  Average_Predicted_Level Swim_Advisory\n0  63rdStreet        0.621               667.260000             Y\n1     Calumet        0.506               269.683333             Y\n2      Foster        0.549               309.050000             Y\n3       Leone        0.587               311.400000             Y\n4    Montrose        0.661               532.222222             Y\n5    Osterman        0.558               371.125000             Y\n6     Rainbow        0.535               286.100000             Y",
      "text/html": "<div>\n<style scoped>\n    .dataframe tbody tr th:only-of-type {\n        vertical-align: middle;\n    }\n\n    .dataframe tbody tr th {\n        vertical-align: top;\n    }\n\n    .dataframe thead th {\n        text-align: right;\n    }\n</style>\n<table border=\"1\" class=\"dataframe\">\n  <thead>\n    <tr style=\"text-align: right;\">\n      <th></th>\n      <th>Beach</th>\n      <th>Probability</th>\n      <th>Average_Predicted_Level</th>\n      <th>Swim_Advisory</th>\n    </tr>\n  </thead>\n  <tbody>\n    <tr>\n      <th>0</th>\n      <td>63rdStreet</td>\n      <td>0.621</td>\n      <td>667.260000</td>\n      <td>Y</td>\n    </tr>\n    <tr>\n      <th>1</th>\n      <td>Calumet</td>\n      <td>0.506</td>\n      <td>269.683333</td>\n      <td>Y</td>\n    </tr>\n    <tr>\n      <th>2</th>\n      <td>Foster</td>\n      <td>0.549</td>\n      <td>309.050000</td>\n      <td>Y</td>\n    </tr>\n    <tr>\n      <th>3</th>\n      <td>Leone</td>\n      <td>0.587</td>\n      <td>311.400000</td>\n      <td>Y</td>\n    </tr>\n    <tr>\n      <th>4</th>\n      <td>Montrose</td>\n      <td>0.661</td>\n      <td>532.222222</td>\n      <td>Y</td>\n    </tr>\n    <tr>\n      <th>5</th>\n      <td>Osterman</td>\n      <td>0.558</td>\n      <td>371.125000</td>\n      <td>Y</td>\n    </tr>\n    <tr>\n      <th>6</th>\n      <td>Rainbow</td>\n      <td>0.535</td>\n      <td>286.100000</td>\n      <td>Y</td>\n    </tr>\n  </tbody>\n</table>\n</div>"
     },
     "metadata": {},
     "execution_count": 141
    }
   ],
   "source": [
    "least_safe_beaches_df = pd.read_sql_query(\"\"\"SELECT Beach, Probability, \n",
    "                                        avg(Predicted_Level) AS Average_Predicted_Level,\n",
    "                                        Swim_Advisory\n",
    "                                        FROM clean_swim_advisory_df\n",
    "                                        WHERE Probability >= 0\n",
    "                                        AND Predicted_Level >= 235\n",
    "                                        GROUP BY Beach\n",
    "                                        ORDER BY Beach\n",
    "                                        \"\"\", con=engine) \n",
    "\n",
    "least_safe_beaches_df.to_sql(name=\"least_safe_beaches_df\", con=engine, if_exists=\"replace\", index=False)                                             \n",
    "\n",
    "least_safe_beaches_df"
   ]
  },
  {
   "cell_type": "code",
   "execution_count": 160,
   "metadata": {
    "tags": []
   },
   "outputs": [
    {
     "output_type": "stream",
     "name": "stdout",
     "text": "The beaches that seem to have their predicted CFU level per 100 ml the lowest throughout the whole year of 2016 are the OakStreet and Ohio beaches. Thus, they might be the safest beaches to go to.\n"
    }
   ],
   "source": [
    "safest_beaches_list = list(set(swim_advisory_beaches_df[\"Beach\"]) - set(least_safe_beaches_df[\"Beach\"]))\n",
    "print(f\"The beaches that seem to have their predicted CFU level per 100 ml the lowest throughout the whole year of 2016 are the {safest_beaches_list[0]} and {safest_beaches_list[1]} beaches. Thus, they might be the safest beaches to go to.\")"
   ]
  },
  {
   "cell_type": "code",
   "execution_count": 165,
   "metadata": {
    "tags": []
   },
   "outputs": [
    {
     "output_type": "stream",
     "name": "stdout",
     "text": "This data represents the DNA and culture tests results of all the beaches of our dataset with a swim advisory given to the beaches that exceed the maximum level for any of the DNA or culture tests. If a swim advisory is given to a beach, the beach gets 'Y' on its part of the 'Swim Advisory' column; otherwise, it gets a 'N'.\n"
    },
    {
     "output_type": "execute_result",
     "data": {
      "text/plain": "                             Beach  DNA_Sample_1_Reading_Mean  \\\n0                      63rd Street                 863.750893   \n1                          Calumet                 419.256388   \n2                         Humboldt                3576.528846   \n3             Margaret T Burroughs                 372.342857   \n4                         Montrose                 908.200881   \n5                     Montrose Dog                        NaN   \n6                          Rainbow                 488.526872   \n7                      South Shore                 434.175893   \n8                      12th Street                 477.594118   \n9                      57th Street                 407.446602   \n10                        Columbia                        NaN   \n11                           Fargo                        NaN   \n12                          Foster                 256.786408   \n13                        Hartigan                  33.000000   \n14               Hartigan (Albion)                 461.184466   \n15                          Howard                 298.105769   \n16                         Juneway                        NaN   \n17                            Lane                        NaN   \n18                           Leone                 561.500000   \n19                          Loyola                        NaN   \n20     Margaret T Burroughs (31st)                 556.372549   \n21           Marion Mahony Griffin                  59.000000   \n22  Marion Mahony Griffin (Jarvis)                 294.431373   \n23                    North Avenue                 228.040462   \n24                     North Shore                        NaN   \n25                      Oak Street                 186.495050   \n26                         Oakwood                 279.119565   \n27                     Ohio Street                 493.011561   \n28                        Osterman                 210.078431   \n29                          Rogers                 581.534653   \n\n    DNA_Sample_2_Reading_Mean  DNA_Overall_Reading_Mean  \\\n0                  673.273303                693.698661   \n1                  426.590308                371.786784   \n2                 3998.471154               3581.267308   \n3                  395.257143                338.567143   \n4                  908.769912                702.403084   \n5                         NaN                       NaN   \n6                  724.042478                477.889868   \n7                  359.740625                356.683482   \n8                  277.323529                305.977647   \n9                  345.194175                325.009709   \n10                        NaN                       NaN   \n11                        NaN                       NaN   \n12                 336.077670                204.372816   \n13                  20.000000                 25.700000   \n14                 345.088235                352.887379   \n15                 561.764706                327.623077   \n16                        NaN                       NaN   \n17                        NaN                       NaN   \n18                 297.630000                336.199020   \n19                        NaN                       NaN   \n20                 479.725490                437.465686   \n21                  32.000000                 43.500000   \n22                 519.171717                344.590196   \n23                 212.223529                187.334104   \n24                        NaN                       NaN   \n25                 428.465347                220.351485   \n26                 952.674157                287.130435   \n27                 352.116279                281.309827   \n28                 229.712871                196.934314   \n29                 537.612245                487.399010   \n\n    Culture_Sample_1_Reading_Mean  Culture_Sample_2_Reading_Mean  \\\n0                      327.079103                     319.662722   \n1                      253.946719                     241.966629   \n2                       35.270000                      22.872500   \n3                      226.162967                     245.076988   \n4                      305.017572                     317.136647   \n5                      328.082460                     336.712073   \n6                      273.560166                     270.017836   \n7                      243.380414                     210.870195   \n8                      164.822777                     160.685488   \n9                      163.935810                     169.782805   \n10                     105.620775                     132.175540   \n11                      55.888776                      42.948958   \n12                     144.617466                     139.474539   \n13                      86.960430                      83.922535   \n14                            NaN                            NaN   \n15                      65.057687                      68.979438   \n16                      68.680127                      71.963299   \n17                     146.537809                     151.169751   \n18                      84.664237                      82.480306   \n19                     108.060400                      95.830800   \n20                            NaN                            NaN   \n21                      83.705809                      76.084765   \n22                            NaN                            NaN   \n23                      98.114357                      90.029875   \n24                     106.178521                      89.484116   \n25                      72.613151                      75.826741   \n26                     104.128120                     113.309667   \n27                     118.622854                     129.395163   \n28                     137.088821                     128.780049   \n29                      68.310801                      68.896159   \n\n    Culture_Overall_Reading_Mean Swim Advisory  \n0                     304.352000             N  \n1                     225.068243             N  \n2                      26.770000             N  \n3                     219.259064             N  \n4                     294.973933             N  \n5                     306.591364             N  \n6                     252.946327             N  \n7                     203.557767             N  \n8                     150.768044             Y  \n9                     153.530182             Y  \n10                     98.190493             Y  \n11                     44.014286             Y  \n12                    135.405767             Y  \n13                     79.236237             Y  \n14                           NaN             Y  \n15                     63.231566             Y  \n16                     63.567893             Y  \n17                    138.361888             Y  \n18                     79.390051             Y  \n19                     96.095600             Y  \n20                           NaN             Y  \n21                     72.119697             Y  \n22                           NaN             Y  \n23                     87.844209             Y  \n24                     90.419298             Y  \n25                     70.085272             Y  \n26                     98.048093             Y  \n27                    110.422623             Y  \n28                    125.192308             Y  \n29                     62.440329             Y  ",
      "text/html": "<div>\n<style scoped>\n    .dataframe tbody tr th:only-of-type {\n        vertical-align: middle;\n    }\n\n    .dataframe tbody tr th {\n        vertical-align: top;\n    }\n\n    .dataframe thead th {\n        text-align: right;\n    }\n</style>\n<table border=\"1\" class=\"dataframe\">\n  <thead>\n    <tr style=\"text-align: right;\">\n      <th></th>\n      <th>Beach</th>\n      <th>DNA_Sample_1_Reading_Mean</th>\n      <th>DNA_Sample_2_Reading_Mean</th>\n      <th>DNA_Overall_Reading_Mean</th>\n      <th>Culture_Sample_1_Reading_Mean</th>\n      <th>Culture_Sample_2_Reading_Mean</th>\n      <th>Culture_Overall_Reading_Mean</th>\n      <th>Swim Advisory</th>\n    </tr>\n  </thead>\n  <tbody>\n    <tr>\n      <th>0</th>\n      <td>63rd Street</td>\n      <td>863.750893</td>\n      <td>673.273303</td>\n      <td>693.698661</td>\n      <td>327.079103</td>\n      <td>319.662722</td>\n      <td>304.352000</td>\n      <td>N</td>\n    </tr>\n    <tr>\n      <th>1</th>\n      <td>Calumet</td>\n      <td>419.256388</td>\n      <td>426.590308</td>\n      <td>371.786784</td>\n      <td>253.946719</td>\n      <td>241.966629</td>\n      <td>225.068243</td>\n      <td>N</td>\n    </tr>\n    <tr>\n      <th>2</th>\n      <td>Humboldt</td>\n      <td>3576.528846</td>\n      <td>3998.471154</td>\n      <td>3581.267308</td>\n      <td>35.270000</td>\n      <td>22.872500</td>\n      <td>26.770000</td>\n      <td>N</td>\n    </tr>\n    <tr>\n      <th>3</th>\n      <td>Margaret T Burroughs</td>\n      <td>372.342857</td>\n      <td>395.257143</td>\n      <td>338.567143</td>\n      <td>226.162967</td>\n      <td>245.076988</td>\n      <td>219.259064</td>\n      <td>N</td>\n    </tr>\n    <tr>\n      <th>4</th>\n      <td>Montrose</td>\n      <td>908.200881</td>\n      <td>908.769912</td>\n      <td>702.403084</td>\n      <td>305.017572</td>\n      <td>317.136647</td>\n      <td>294.973933</td>\n      <td>N</td>\n    </tr>\n    <tr>\n      <th>5</th>\n      <td>Montrose Dog</td>\n      <td>NaN</td>\n      <td>NaN</td>\n      <td>NaN</td>\n      <td>328.082460</td>\n      <td>336.712073</td>\n      <td>306.591364</td>\n      <td>N</td>\n    </tr>\n    <tr>\n      <th>6</th>\n      <td>Rainbow</td>\n      <td>488.526872</td>\n      <td>724.042478</td>\n      <td>477.889868</td>\n      <td>273.560166</td>\n      <td>270.017836</td>\n      <td>252.946327</td>\n      <td>N</td>\n    </tr>\n    <tr>\n      <th>7</th>\n      <td>South Shore</td>\n      <td>434.175893</td>\n      <td>359.740625</td>\n      <td>356.683482</td>\n      <td>243.380414</td>\n      <td>210.870195</td>\n      <td>203.557767</td>\n      <td>N</td>\n    </tr>\n    <tr>\n      <th>8</th>\n      <td>12th Street</td>\n      <td>477.594118</td>\n      <td>277.323529</td>\n      <td>305.977647</td>\n      <td>164.822777</td>\n      <td>160.685488</td>\n      <td>150.768044</td>\n      <td>Y</td>\n    </tr>\n    <tr>\n      <th>9</th>\n      <td>57th Street</td>\n      <td>407.446602</td>\n      <td>345.194175</td>\n      <td>325.009709</td>\n      <td>163.935810</td>\n      <td>169.782805</td>\n      <td>153.530182</td>\n      <td>Y</td>\n    </tr>\n    <tr>\n      <th>10</th>\n      <td>Columbia</td>\n      <td>NaN</td>\n      <td>NaN</td>\n      <td>NaN</td>\n      <td>105.620775</td>\n      <td>132.175540</td>\n      <td>98.190493</td>\n      <td>Y</td>\n    </tr>\n    <tr>\n      <th>11</th>\n      <td>Fargo</td>\n      <td>NaN</td>\n      <td>NaN</td>\n      <td>NaN</td>\n      <td>55.888776</td>\n      <td>42.948958</td>\n      <td>44.014286</td>\n      <td>Y</td>\n    </tr>\n    <tr>\n      <th>12</th>\n      <td>Foster</td>\n      <td>256.786408</td>\n      <td>336.077670</td>\n      <td>204.372816</td>\n      <td>144.617466</td>\n      <td>139.474539</td>\n      <td>135.405767</td>\n      <td>Y</td>\n    </tr>\n    <tr>\n      <th>13</th>\n      <td>Hartigan</td>\n      <td>33.000000</td>\n      <td>20.000000</td>\n      <td>25.700000</td>\n      <td>86.960430</td>\n      <td>83.922535</td>\n      <td>79.236237</td>\n      <td>Y</td>\n    </tr>\n    <tr>\n      <th>14</th>\n      <td>Hartigan (Albion)</td>\n      <td>461.184466</td>\n      <td>345.088235</td>\n      <td>352.887379</td>\n      <td>NaN</td>\n      <td>NaN</td>\n      <td>NaN</td>\n      <td>Y</td>\n    </tr>\n    <tr>\n      <th>15</th>\n      <td>Howard</td>\n      <td>298.105769</td>\n      <td>561.764706</td>\n      <td>327.623077</td>\n      <td>65.057687</td>\n      <td>68.979438</td>\n      <td>63.231566</td>\n      <td>Y</td>\n    </tr>\n    <tr>\n      <th>16</th>\n      <td>Juneway</td>\n      <td>NaN</td>\n      <td>NaN</td>\n      <td>NaN</td>\n      <td>68.680127</td>\n      <td>71.963299</td>\n      <td>63.567893</td>\n      <td>Y</td>\n    </tr>\n    <tr>\n      <th>17</th>\n      <td>Lane</td>\n      <td>NaN</td>\n      <td>NaN</td>\n      <td>NaN</td>\n      <td>146.537809</td>\n      <td>151.169751</td>\n      <td>138.361888</td>\n      <td>Y</td>\n    </tr>\n    <tr>\n      <th>18</th>\n      <td>Leone</td>\n      <td>561.500000</td>\n      <td>297.630000</td>\n      <td>336.199020</td>\n      <td>84.664237</td>\n      <td>82.480306</td>\n      <td>79.390051</td>\n      <td>Y</td>\n    </tr>\n    <tr>\n      <th>19</th>\n      <td>Loyola</td>\n      <td>NaN</td>\n      <td>NaN</td>\n      <td>NaN</td>\n      <td>108.060400</td>\n      <td>95.830800</td>\n      <td>96.095600</td>\n      <td>Y</td>\n    </tr>\n    <tr>\n      <th>20</th>\n      <td>Margaret T Burroughs (31st)</td>\n      <td>556.372549</td>\n      <td>479.725490</td>\n      <td>437.465686</td>\n      <td>NaN</td>\n      <td>NaN</td>\n      <td>NaN</td>\n      <td>Y</td>\n    </tr>\n    <tr>\n      <th>21</th>\n      <td>Marion Mahony Griffin</td>\n      <td>59.000000</td>\n      <td>32.000000</td>\n      <td>43.500000</td>\n      <td>83.705809</td>\n      <td>76.084765</td>\n      <td>72.119697</td>\n      <td>Y</td>\n    </tr>\n    <tr>\n      <th>22</th>\n      <td>Marion Mahony Griffin (Jarvis)</td>\n      <td>294.431373</td>\n      <td>519.171717</td>\n      <td>344.590196</td>\n      <td>NaN</td>\n      <td>NaN</td>\n      <td>NaN</td>\n      <td>Y</td>\n    </tr>\n    <tr>\n      <th>23</th>\n      <td>North Avenue</td>\n      <td>228.040462</td>\n      <td>212.223529</td>\n      <td>187.334104</td>\n      <td>98.114357</td>\n      <td>90.029875</td>\n      <td>87.844209</td>\n      <td>Y</td>\n    </tr>\n    <tr>\n      <th>24</th>\n      <td>North Shore</td>\n      <td>NaN</td>\n      <td>NaN</td>\n      <td>NaN</td>\n      <td>106.178521</td>\n      <td>89.484116</td>\n      <td>90.419298</td>\n      <td>Y</td>\n    </tr>\n    <tr>\n      <th>25</th>\n      <td>Oak Street</td>\n      <td>186.495050</td>\n      <td>428.465347</td>\n      <td>220.351485</td>\n      <td>72.613151</td>\n      <td>75.826741</td>\n      <td>70.085272</td>\n      <td>Y</td>\n    </tr>\n    <tr>\n      <th>26</th>\n      <td>Oakwood</td>\n      <td>279.119565</td>\n      <td>952.674157</td>\n      <td>287.130435</td>\n      <td>104.128120</td>\n      <td>113.309667</td>\n      <td>98.048093</td>\n      <td>Y</td>\n    </tr>\n    <tr>\n      <th>27</th>\n      <td>Ohio Street</td>\n      <td>493.011561</td>\n      <td>352.116279</td>\n      <td>281.309827</td>\n      <td>118.622854</td>\n      <td>129.395163</td>\n      <td>110.422623</td>\n      <td>Y</td>\n    </tr>\n    <tr>\n      <th>28</th>\n      <td>Osterman</td>\n      <td>210.078431</td>\n      <td>229.712871</td>\n      <td>196.934314</td>\n      <td>137.088821</td>\n      <td>128.780049</td>\n      <td>125.192308</td>\n      <td>Y</td>\n    </tr>\n    <tr>\n      <th>29</th>\n      <td>Rogers</td>\n      <td>581.534653</td>\n      <td>537.612245</td>\n      <td>487.399010</td>\n      <td>68.310801</td>\n      <td>68.896159</td>\n      <td>62.440329</td>\n      <td>Y</td>\n    </tr>\n  </tbody>\n</table>\n</div>"
     },
     "metadata": {},
     "execution_count": 165
    }
   ],
   "source": [
    "first_formatter = unsafe_beaches_df\n",
    "first_formatter[\"Swim Advisory\"] = \"N\"\n",
    "second_formatter = DNA_and_culture_safe_beaches_df\n",
    "second_formatter[\"Swim Advisory\"] = \"Y\"\n",
    "raw_total_beaches_with_swim_advisory_df = pd.concat([first_formatter, second_formatter])\n",
    "total_beaches_with_swim_advisory_df = raw_total_beaches_with_swim_advisory_df.reset_index()\n",
    "del total_beaches_with_swim_advisory_df[\"index\"]\n",
    "\n",
    "total_beaches_with_swim_advisory_df.to_sql(name=\"total_beaches_with_swim_advisory_df\", con=engine, if_exists=\"replace\", index=False)     \n",
    "\n",
    "print(\"This data represents the DNA and culture tests results of all the beaches of our dataset with a swim advisory given to the beaches that exceed the maximum level for any of the DNA or culture tests. If a swim advisory is given to a beach, the beach gets 'Y' on its part of the 'Swim Advisory' column; otherwise, it gets a 'N'.\")\n",
    "total_beaches_with_swim_advisory_df"
   ]
  },
  {
   "cell_type": "code",
   "execution_count": 166,
   "metadata": {},
   "outputs": [
    {
     "output_type": "execute_result",
     "data": {
      "text/plain": "['DNA_and_culture_safe_beaches_df',\n 'DNA_safe_beaches_df',\n 'clean_chicago_beach_dna_and_culture_tests_df',\n 'clean_chicago_beach_parameters_df',\n 'clean_swim_advisory_df',\n 'least_safe_beaches_df',\n 'swim_advisory_beaches_df',\n 'total_beaches_df',\n 'total_beaches_with_swim_advisory_df',\n 'unsafe_beaches_df']"
     },
     "metadata": {},
     "execution_count": 166
    }
   ],
   "source": [
    "engine.table_names()"
   ]
  },
  {
   "cell_type": "code",
   "execution_count": null,
   "metadata": {},
   "outputs": [],
   "source": []
  }
 ],
 "metadata": {
  "kernelspec": {
   "display_name": "Python 3.8.3 64-bit",
   "language": "python",
   "name": "python38364bit0dc8d4590de84645857a530fc08e00ca"
  },
  "language_info": {
   "codemirror_mode": {
    "name": "ipython",
    "version": 3
   },
   "file_extension": ".py",
   "mimetype": "text/x-python",
   "name": "python",
   "nbconvert_exporter": "python",
   "pygments_lexer": "ipython3",
   "version": "3.8.3-final"
  }
 },
 "nbformat": 4,
 "nbformat_minor": 2
}